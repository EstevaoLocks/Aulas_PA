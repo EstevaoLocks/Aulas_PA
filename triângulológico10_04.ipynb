{
  "nbformat": 4,
  "nbformat_minor": 0,
  "metadata": {
    "colab": {
      "provenance": [],
      "authorship_tag": "ABX9TyM2ZNK7rgWCSgdveBylEG2Z",
      "include_colab_link": true
    },
    "kernelspec": {
      "name": "python3",
      "display_name": "Python 3"
    },
    "language_info": {
      "name": "python"
    }
  },
  "cells": [
    {
      "cell_type": "markdown",
      "metadata": {
        "id": "view-in-github",
        "colab_type": "text"
      },
      "source": [
        "<a href=\"https://colab.research.google.com/github/EstevaoLocks/Aulas_PA/blob/main/tri%C3%A2ngulol%C3%B3gico10_04.ipynb\" target=\"_parent\"><img src=\"https://colab.research.google.com/assets/colab-badge.svg\" alt=\"Open In Colab\"/></a>"
      ]
    },
    {
      "cell_type": "markdown",
      "source": [
        "# Condição de existência de um triângulo"
      ],
      "metadata": {
        "id": "GgQzj89tTO50"
      }
    },
    {
      "cell_type": "code",
      "execution_count": 25,
      "metadata": {
        "colab": {
          "base_uri": "https://localhost:8080/"
        },
        "id": "Wlkyv6xqTBC6",
        "outputId": "f708cd4f-3abe-44eb-8c66-c8df0d721cb2"
      },
      "outputs": [
        {
          "output_type": "stream",
          "name": "stdout",
          "text": [
            "Digite um valor para o lado do triângulo: 3\n",
            "Digite um valor para o outro lado do triângulo: 3\n",
            "Digite um valor para o outro lado do triângulo: 3\n",
            "É possível fazer um triângulo com esses valores: True\n"
          ]
        }
      ],
      "source": [
        "a = float(input(\"Digite um valor para o lado do triângulo: \"))\n",
        "b = float(input(\"Digite um valor para o outro lado do triângulo: \"))\n",
        "c = float(input(\"Digite um valor para o outro lado do triângulo: \"))\n",
        "\n",
        "etriangulo = a + b > c and a + c > b and b + c > a\n",
        "print (\"É possível fazer um triângulo com esses valores:\", etriangulo)"
      ]
    },
    {
      "cell_type": "markdown",
      "source": [
        "# Condição para triângulos equiláteros\n",
        "\n"
      ],
      "metadata": {
        "id": "-Y2HQDPMWZMa"
      }
    },
    {
      "cell_type": "code",
      "source": [
        "eequilatero = a == b and b == c\n",
        "\n",
        "print(\"Esse triângulo é equilátero:\", eequilatero)"
      ],
      "metadata": {
        "colab": {
          "base_uri": "https://localhost:8080/"
        },
        "id": "qFphLVHUWl4P",
        "outputId": "ffed63cd-bcd3-4dc5-83b5-9d4f1846114b"
      },
      "execution_count": 26,
      "outputs": [
        {
          "output_type": "stream",
          "name": "stdout",
          "text": [
            "Esse triângulo é equilátero: True\n"
          ]
        }
      ]
    },
    {
      "cell_type": "markdown",
      "source": [
        "# Condição para triângulos isósceles"
      ],
      "metadata": {
        "id": "12_31FPzXBmK"
      }
    },
    {
      "cell_type": "code",
      "source": [
        "eisosceles = (a == b and b != c) or (a == c and c != b) or (b == c and c != a)\n",
        "\n",
        "print(\"Esse triângulo é isósceles: \", eisosceles)"
      ],
      "metadata": {
        "colab": {
          "base_uri": "https://localhost:8080/"
        },
        "id": "Eha5MsDrXKRy",
        "outputId": "947ca7b6-5a0f-49b2-e1ad-1777b612ad43"
      },
      "execution_count": 27,
      "outputs": [
        {
          "output_type": "stream",
          "name": "stdout",
          "text": [
            "Esse triângulo é isósceles:  False\n"
          ]
        }
      ]
    },
    {
      "cell_type": "markdown",
      "source": [
        "# Condição para triângulos escalenos"
      ],
      "metadata": {
        "id": "mBS_cSDdXwLF"
      }
    },
    {
      "cell_type": "code",
      "source": [
        "eescaleno = a != b and a != c and b != c and etriangulo\n",
        "\n",
        "print(\"Esse triângulo é escaleno: \", eescaleno)"
      ],
      "metadata": {
        "colab": {
          "base_uri": "https://localhost:8080/"
        },
        "id": "XWA7zbFVX1Xx",
        "outputId": "3413b0b8-d77a-499e-e764-2eb169a86b83"
      },
      "execution_count": 28,
      "outputs": [
        {
          "output_type": "stream",
          "name": "stdout",
          "text": [
            "Esse triângulo é escaleno:  False\n"
          ]
        }
      ]
    }
  ]
}