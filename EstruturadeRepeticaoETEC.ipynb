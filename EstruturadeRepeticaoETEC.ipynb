{
  "nbformat": 4,
  "nbformat_minor": 0,
  "metadata": {
    "colab": {
      "provenance": [],
      "authorship_tag": "ABX9TyMyDBeraZnbvzA/Yn0mEHNR",
      "include_colab_link": true
    },
    "kernelspec": {
      "name": "python3",
      "display_name": "Python 3"
    },
    "language_info": {
      "name": "python"
    }
  },
  "cells": [
    {
      "cell_type": "markdown",
      "metadata": {
        "id": "view-in-github",
        "colab_type": "text"
      },
      "source": [
        "<a href=\"https://colab.research.google.com/github/EstevaoLocks/Aulas_PA/blob/main/EstruturadeRepeticaoETEC.ipynb\" target=\"_parent\"><img src=\"https://colab.research.google.com/assets/colab-badge.svg\" alt=\"Open In Colab\"/></a>"
      ]
    },
    {
      "cell_type": "code",
      "execution_count": 3,
      "metadata": {
        "colab": {
          "base_uri": "https://localhost:8080/"
        },
        "id": "PBZnCACRYpA7",
        "outputId": "086c776e-5b91-4092-df23-7cc64d698cb6"
      },
      "outputs": [
        {
          "output_type": "stream",
          "name": "stdout",
          "text": [
            "BOM DIA\n",
            "BOM DIA\n",
            "BOM DIA\n",
            "BOM DIA\n",
            "BOM DIA\n",
            "BOM DIA\n",
            "BOM DIA\n",
            "BOM DIA\n",
            "BOM DIA\n",
            "BOM DIA\n"
          ]
        }
      ],
      "source": [
        "# IMPRIMIR NA TELA A FRASE \"BOM DIA\" 10 VEZES\n",
        "\n",
        "print(\"BOM DIA\")\n",
        "print(\"BOM DIA\")\n",
        "print(\"BOM DIA\")\n",
        "print(\"BOM DIA\")\n",
        "print(\"BOM DIA\")\n",
        "print(\"BOM DIA\")\n",
        "print(\"BOM DIA\")\n",
        "print(\"BOM DIA\")\n",
        "print(\"BOM DIA\")\n",
        "print(\"BOM DIA\")"
      ]
    },
    {
      "cell_type": "code",
      "source": [
        "# LAÇO DE REPETIÇÃO FOR\n",
        "\n",
        "for i in range(10):\n",
        "  print(i + 1, \"- Bom dia\")"
      ],
      "metadata": {
        "colab": {
          "base_uri": "https://localhost:8080/"
        },
        "id": "1sglz63naZPF",
        "outputId": "17e7dd99-3a89-4bc8-b4c9-224524ae3c88"
      },
      "execution_count": 6,
      "outputs": [
        {
          "output_type": "stream",
          "name": "stdout",
          "text": [
            "1 - Bom dia\n",
            "2 - Bom dia\n",
            "3 - Bom dia\n",
            "4 - Bom dia\n",
            "5 - Bom dia\n",
            "6 - Bom dia\n",
            "7 - Bom dia\n",
            "8 - Bom dia\n",
            "9 - Bom dia\n",
            "10 - Bom dia\n"
          ]
        }
      ]
    },
    {
      "cell_type": "code",
      "source": [
        "#  MOSTRAR TODOS OS NÚMEROS ÍMPARES DE 1 A 30\n",
        "\n",
        "for i in range(30):\n",
        "  if (i+1) % 2 == 0:\n",
        "    print(i)"
      ],
      "metadata": {
        "colab": {
          "base_uri": "https://localhost:8080/"
        },
        "id": "z8rTtg_bbf6T",
        "outputId": "b3057ac3-a4cb-4cc1-8aad-591e920694d7"
      },
      "execution_count": 10,
      "outputs": [
        {
          "output_type": "stream",
          "name": "stdout",
          "text": [
            "1\n",
            "3\n",
            "5\n",
            "7\n",
            "9\n",
            "11\n",
            "13\n",
            "15\n",
            "17\n",
            "19\n",
            "21\n",
            "23\n",
            "25\n",
            "27\n",
            "29\n"
          ]
        }
      ]
    },
    {
      "cell_type": "code",
      "source": [
        "# CONTADOR DE NÚMERO INICIAL E UM NÚMERO FINAL\n",
        "\n",
        "inicio = int(input(\"Digite um número inicial: \"))\n",
        "fim = int(input(\"Digite um número final: \"))\n",
        "\n",
        "if inicio > fim:\n",
        "  aux = inicio\n",
        "  inicio = fim\n",
        "  fim = aux\n",
        "\n",
        "for i in range(inicio, fim):\n",
        "  print(i)"
      ],
      "metadata": {
        "colab": {
          "base_uri": "https://localhost:8080/"
        },
        "id": "DvlYSxM_fYyK",
        "outputId": "f64a077a-7b4a-411c-b1b5-8e1ad1cbdcfe"
      },
      "execution_count": 17,
      "outputs": [
        {
          "output_type": "stream",
          "name": "stdout",
          "text": [
            "Digite um número inicial: 7\n",
            "Digite um número final: 2\n",
            "2\n",
            "3\n",
            "4\n",
            "5\n",
            "6\n"
          ]
        }
      ]
    },
    {
      "cell_type": "code",
      "source": [
        "# SOME TODOS OS NÚMEROS DE 1 A 10\n",
        "soma = 0\n",
        "for i in range(1, 11):\n",
        "  soma = soma + i\n",
        "  print(\"Valor acumulado => \", soma)\n",
        "\n",
        "print(\"Valor final:\\n\", soma)"
      ],
      "metadata": {
        "colab": {
          "base_uri": "https://localhost:8080/"
        },
        "id": "PchoulakjSbN",
        "outputId": "0aacff65-d804-4a1b-fd2e-9f7e0e0d52ef"
      },
      "execution_count": 26,
      "outputs": [
        {
          "output_type": "stream",
          "name": "stdout",
          "text": [
            "Valor acumulado =>  1\n",
            "Valor acumulado =>  3\n",
            "Valor acumulado =>  6\n",
            "Valor acumulado =>  10\n",
            "Valor acumulado =>  15\n",
            "Valor acumulado =>  21\n",
            "Valor acumulado =>  28\n",
            "Valor acumulado =>  36\n",
            "Valor acumulado =>  45\n",
            "Valor acumulado =>  55\n",
            "Valor final:\n",
            " 55\n"
          ]
        }
      ]
    },
    {
      "cell_type": "code",
      "source": [
        "# SOMA DE TODOS OS NÚMEROS ÍMPARES DE 1 ATÉ 100\n",
        "\n",
        "soma = 0\n",
        "for i in range(1,101):\n",
        "  if i % 2 != 0:\n",
        "    soma = soma + i\n",
        "\n",
        "print(\"Valor final:\\n\",soma)"
      ],
      "metadata": {
        "colab": {
          "base_uri": "https://localhost:8080/"
        },
        "id": "cRcKXIGGlTnN",
        "outputId": "8f9a4407-5aaf-492d-a3d6-fbeff1cee1d9"
      },
      "execution_count": 30,
      "outputs": [
        {
          "output_type": "stream",
          "name": "stdout",
          "text": [
            "Valor final:\n",
            " 2500\n"
          ]
        }
      ]
    },
    {
      "cell_type": "code",
      "source": [
        "# CONTADOR DE 1 A 10 COM WHILE\n",
        "\n",
        "n = 1\n",
        "while (n <= 10):\n",
        "  print(n)\n",
        "  n += 1"
      ],
      "metadata": {
        "colab": {
          "base_uri": "https://localhost:8080/"
        },
        "id": "IyNcwdLyoBGd",
        "outputId": "895109bf-af20-4be9-c2df-2beb4ec2af9c"
      },
      "execution_count": 32,
      "outputs": [
        {
          "output_type": "stream",
          "name": "stdout",
          "text": [
            "1\n",
            "2\n",
            "3\n",
            "4\n",
            "5\n",
            "6\n",
            "7\n",
            "8\n",
            "9\n",
            "10\n"
          ]
        }
      ]
    },
    {
      "cell_type": "code",
      "source": [
        "# DIGITE NÚMEROS ATÉ QUE O USUÁRIO DIGITE 0\n",
        "\n",
        "while n != 0:\n",
        "  n = int(input(\"Digite em número: \"))"
      ],
      "metadata": {
        "colab": {
          "base_uri": "https://localhost:8080/"
        },
        "id": "KRP5bE5jp1Bd",
        "outputId": "02d02b92-367b-4de1-ce3c-98b484d85658"
      },
      "execution_count": 36,
      "outputs": [
        {
          "name": "stdout",
          "output_type": "stream",
          "text": [
            "Digite em número: 1\n",
            "Digite em número: 2\n",
            "Digite em número: 3\n",
            "Digite em número: 4\n",
            "Digite em número: 5\n",
            "Digite em número: 6\n",
            "Digite em número: 7\n",
            "Digite em número: 8\n",
            "Digite em número: 9\n",
            "Digite em número: 0\n"
          ]
        }
      ]
    },
    {
      "cell_type": "code",
      "source": [
        "# SOMAR NÚMEROS ATE USUÁRIO DIGITAR 0\n",
        "\n",
        "i = int(input(\"digite um número: \"))\n",
        "soma = 0\n",
        "soma += i\n",
        "\n",
        "while i != 0:\n",
        "  i = int(input(\"Digite um número: \"))\n",
        "  soma += i\n",
        "\n",
        "print(\"\\nTotal =>\", soma)"
      ],
      "metadata": {
        "colab": {
          "base_uri": "https://localhost:8080/"
        },
        "id": "ZRhVcOojxMlQ",
        "outputId": "ffcb0be3-ecd9-48f8-89d8-bbbe879fd63c"
      },
      "execution_count": 39,
      "outputs": [
        {
          "output_type": "stream",
          "name": "stdout",
          "text": [
            "digite um número: 5\n",
            "Digite um número: 5\n",
            "Digite um número: 0\n",
            "\n",
            "Total => 10\n"
          ]
        }
      ]
    },
    {
      "cell_type": "code",
      "source": [
        "# CRIANDO UM MENU DE OPÇÕES\n",
        "\n",
        "print(\"---------------------------\\nEscolha uma das opções abaixo:\")\n",
        "print(\"Digite 1 para a Opção 1\")\n",
        "print(\"Digite 2 para a Opção 2\")\n",
        "print(\"Digite 3 para a Opção 3\")\n",
        "print(\"Digite 4 para a Opção 4\")\n",
        "\n",
        "opcao = int(input(\"Digite a opção: \"))\n",
        "\n",
        "while opcao > 4 or opcao < 1:\n",
        " opcao = int(input(\"Escolha uma opção válida:\"))\n",
        "\n",
        "if opcao == 1:\n",
        "  print(\"\\nVocê escolheu a opção 1\")\n",
        "  print(\"\\n-------------------------------\")\n",
        "elif opcao == 2:\n",
        "  print(\"\\nVocê escolheu a opção 2\")\n",
        "  print(\"\\n-------------------------------\")\n",
        "elif opcao == 3:\n",
        "  print(\"\\nVocê escolheu a opção 3\")\n",
        "  print(\"\\n-------------------------------\")\n",
        "elif opcao == 4:\n",
        "  print(\"\\nVocê escolheu a opção 4\")\n",
        "  print(\"\\n-------------------------------\")"
      ],
      "metadata": {
        "colab": {
          "base_uri": "https://localhost:8080/"
        },
        "id": "Lyq8N-bszFXJ",
        "outputId": "cb76883a-ce5a-470d-f341-d58f10bb1aec"
      },
      "execution_count": 52,
      "outputs": [
        {
          "output_type": "stream",
          "name": "stdout",
          "text": [
            "---------------------------\n",
            "Escolha uma das opções abaixo:\n",
            "Digite 1 para a Opção 1\n",
            "Digite 2 para a Opção 2\n",
            "Digite 3 para a Opção 3\n",
            "Digite 4 para a Opção 4\n",
            "Digite a opção: 3\n",
            "Você escolheu a opção 3\n",
            "\n",
            "-------------------------------\n"
          ]
        }
      ]
    }
  ]
}