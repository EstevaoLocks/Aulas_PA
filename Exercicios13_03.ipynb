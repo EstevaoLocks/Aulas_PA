{
  "nbformat": 4,
  "nbformat_minor": 0,
  "metadata": {
    "colab": {
      "provenance": [],
      "authorship_tag": "ABX9TyM0TLhtRLWYx71tMXxqyYFx",
      "include_colab_link": true
    },
    "kernelspec": {
      "name": "python3",
      "display_name": "Python 3"
    },
    "language_info": {
      "name": "python"
    }
  },
  "cells": [
    {
      "cell_type": "markdown",
      "metadata": {
        "id": "view-in-github",
        "colab_type": "text"
      },
      "source": [
        "<a href=\"https://colab.research.google.com/github/EstevaoLocks/Aulas_PA/blob/main/Exercicios13_03.ipynb\" target=\"_parent\"><img src=\"https://colab.research.google.com/assets/colab-badge.svg\" alt=\"Open In Colab\"/></a>"
      ]
    },
    {
      "cell_type": "markdown",
      "source": [
        "**Questão 3**"
      ],
      "metadata": {
        "id": "FVIB9g9gIOgS"
      }
    },
    {
      "cell_type": "code",
      "execution_count": null,
      "metadata": {
        "id": "DecIwkiRejey",
        "colab": {
          "base_uri": "https://localhost:8080/"
        },
        "outputId": "970b8a42-8dd2-4533-cd2d-b52c0fe76d51"
      },
      "outputs": [
        {
          "output_type": "stream",
          "name": "stdout",
          "text": [
            "Qual a cotação do dolar hoje em reais? 5\n",
            "Qual é o valor em reais que você deseja converter para dolar?100\n",
            "Seu dinheiro é equivalente a 20.0  dolares\n"
          ]
        }
      ],
      "source": [
        "cd = float(input(\"Qual a cotação do dolar hoje em reais? \"))\n",
        "v = float(input(\"Qual é o valor em reais que você deseja converter para dolar?\"))\n",
        "vf = v/cd\n",
        "print(\"Seu dinheiro é equivalente a\",vf,\" dolares\")"
      ]
    },
    {
      "cell_type": "markdown",
      "source": [
        "**Questão 4**"
      ],
      "metadata": {
        "id": "H8EeYZqsIJr1"
      }
    },
    {
      "cell_type": "code",
      "source": [
        "n1 = float(input(\"Digite um número: \"))\n",
        "n2 = float(input(\"Digite mais um número: \"))\n",
        "n3 = float(input(\"Digite mais um número: \"))\n",
        "n4 = float(input(\"Digite mais um número: \"))\n",
        "qn1 = n1 * n1\n",
        "qn2 = n2 * n2\n",
        "qn3 = n3 * n3\n",
        "qn4 = n4 * n4\n",
        "t = qn1 + qn2 + qn3 + qn4\n",
        "print(\"A resposta é: \",t)"
      ],
      "metadata": {
        "colab": {
          "base_uri": "https://localhost:8080/"
        },
        "id": "zQ1pCgAtnWCX",
        "outputId": "980cdbcb-ffce-4ce3-a012-d87640fba764"
      },
      "execution_count": null,
      "outputs": [
        {
          "output_type": "stream",
          "name": "stdout",
          "text": [
            "Digite um número: 3\n",
            "Digite mais um número: 7\n",
            "Digite mais um número: 8\n",
            "Digite mais um número: 9\n",
            "A resposta é:  203.0\n"
          ]
        }
      ]
    },
    {
      "cell_type": "markdown",
      "source": [
        "**Questão 5**"
      ],
      "metadata": {
        "id": "ai1Xw_3zIEO3"
      }
    },
    {
      "cell_type": "code",
      "source": [
        "valorp = float(input(\"Digite o valor da peça em reais: \"))\n",
        "qtdev = float(input(\"Digite o quanto você vendeu: \"))\n",
        "receita = valorp * qtdev\n",
        "comissao = receita * 0.05\n",
        "print(\"Você vendeu um total de: R$ \",receita)\n",
        "print(\"A sua comissão é de R$ \",comissao)"
      ],
      "metadata": {
        "colab": {
          "base_uri": "https://localhost:8080/"
        },
        "id": "YiT5mmTOpu4B",
        "outputId": "db3d0eb4-abae-47a0-c380-da41485cdd3c"
      },
      "execution_count": null,
      "outputs": [
        {
          "output_type": "stream",
          "name": "stdout",
          "text": [
            "Digite o valor da peça em reais: 10\n",
            "Digite o quanto você vendeu: 150\n",
            "Você vendeu um total de: R$  1500.0\n",
            "A sua comissão é de R$  75.0\n"
          ]
        }
      ]
    },
    {
      "cell_type": "markdown",
      "source": [
        "**Questão 6**"
      ],
      "metadata": {
        "id": "9q1Ds54BH_5A"
      }
    },
    {
      "cell_type": "code",
      "source": [
        "valorfabrica = float(input(\"Digite o valor de Fábrica do carro: \"))\n",
        "imposto = valorfabrica * 0.45\n",
        "valorcimposto = valorfabrica + imposto\n",
        "distribuicao = valorcimposto * 0.28\n",
        "valorfinal = valorcimposto + distribuicao\n",
        "print(\"O valor total do automóvel é de R$\",valorfinal)"
      ],
      "metadata": {
        "colab": {
          "base_uri": "https://localhost:8080/"
        },
        "id": "yIGheER4xS1P",
        "outputId": "1b7ae136-e01c-4df7-9fee-73c98dfefde7"
      },
      "execution_count": null,
      "outputs": [
        {
          "output_type": "stream",
          "name": "stdout",
          "text": [
            "Digite o valor de Fábrica do carro: 25000\n",
            "O valor total do automóvel é de R$ 46400.0\n"
          ]
        }
      ]
    },
    {
      "cell_type": "markdown",
      "source": [
        "**Questão 7**"
      ],
      "metadata": {
        "id": "xp1157XxH7wM"
      }
    },
    {
      "cell_type": "code",
      "source": [
        "h = int(input(\"Digite a hora: \"))\n",
        "m = int(input(\"Digite os minutos: \"))\n",
        "s = m/60 + h\n",
        "print(\"O resultado é: \",s)"
      ],
      "metadata": {
        "colab": {
          "base_uri": "https://localhost:8080/"
        },
        "id": "jPi1ylzezr2F",
        "outputId": "84962df5-deba-44f9-fee6-ef8c6e5b345f"
      },
      "execution_count": null,
      "outputs": [
        {
          "output_type": "stream",
          "name": "stdout",
          "text": [
            "Digite a hora: 1\n",
            "Digite os minutos: 32\n",
            "O resultado é:  1.5333333333333332\n"
          ]
        }
      ]
    },
    {
      "cell_type": "markdown",
      "source": [
        "**Questão 8**"
      ],
      "metadata": {
        "id": "4MN-HjknH3d2"
      }
    },
    {
      "cell_type": "code",
      "source": [
        "htrabalho = int(input(\"Digite quantas horas você trabalhou: \"))\n",
        "mtrabalho = int(input(\"Digite quantos minutos você trabalhou: \"))\n",
        "ganhoh = int(input(\"Digite quanto você ganha por hora: \"))\n",
        "h = htrabalho + mtrabalho/60\n",
        "ganhot = h*ganhoh*1.70\n",
        "print(\"Seu ganho total é de R$: \", ganhot)"
      ],
      "metadata": {
        "colab": {
          "base_uri": "https://localhost:8080/"
        },
        "id": "VoIZIR8X_IVJ",
        "outputId": "cf062845-d99d-46e2-9104-33062f4a198e"
      },
      "execution_count": null,
      "outputs": [
        {
          "output_type": "stream",
          "name": "stdout",
          "text": [
            "Digite quantas horas você trabalhou: 20\n",
            "Digite quantos minutos você trabalhou: 0\n",
            "Digite quanto você ganha por hora: 25\n",
            "Seu ganho total é de R$:  850.0\n"
          ]
        }
      ]
    },
    {
      "cell_type": "markdown",
      "source": [
        "**Questão 9**"
      ],
      "metadata": {
        "id": "FUAaGuw4Hxwj"
      }
    },
    {
      "cell_type": "code",
      "source": [
        "km = float(input(\"Digite a distância percorrida em Km: \"))\n",
        "consumo = float(input(\"Digite quantos Kms o seu carro percorre com um litro de gasolina: \"))\n",
        "preco = float(input(\"Digite o preço da gasolina: \"))\n",
        "gastog = km/consumo\n",
        "gastors = gastog * preco\n",
        "print(\"Para ir para seu destino você gastou: R$\",gastors,\". E para ir e voltar você gastou: R$ \",gastors*2)"
      ],
      "metadata": {
        "colab": {
          "base_uri": "https://localhost:8080/"
        },
        "id": "LOjJA7UtG_oD",
        "outputId": "6c9f391c-43bf-4d76-ccf9-6ca928f0d71b"
      },
      "execution_count": null,
      "outputs": [
        {
          "output_type": "stream",
          "name": "stdout",
          "text": [
            "Digite a distância percorrida em Km: 450\n",
            "Digite quantos Kms o seu carro percorre com um litro de gasolina: 10\n",
            "Digite o preço da gasolina: 4.5\n",
            "Para ir para seu destino você gastou: R$ 202.5 . E para ir e voltar você gastou: R$  405.0\n"
          ]
        }
      ]
    },
    {
      "cell_type": "markdown",
      "source": [
        "**Questão 10**"
      ],
      "metadata": {
        "id": "9-9b3d1CGDmM"
      }
    },
    {
      "cell_type": "code",
      "source": [
        "# Coleta de dados para as variáveis\n",
        "\n",
        "km = float(input(\"Digite a distância percorrida em km: \"))\n",
        "h = int(input(\"Digite as horas que você gastou: \"))\n",
        "m = int(input(\"Digite os minutos restantes do percurso: \"))/60\n",
        "\n",
        "# Cálculos\n",
        "\n",
        "ht = h + m\n",
        "v = km/ht\n",
        "v2 = round(v, 2)\n",
        "\n",
        "# Saida\n",
        "if v > 110:\n",
        "  print(\"Você ultrapassou a velocidade permitida de 110km/h e estava a \",v2,\"Km/h. Você receberá uma multa por infringir uma norma de trânsito\")\n",
        "else:\n",
        "  print(\"Você estava a \",v2,\"Km/h. Parabéns por transitar dentro da velocidade permitida\")"
      ],
      "metadata": {
        "colab": {
          "base_uri": "https://localhost:8080/"
        },
        "id": "qvF1YbyYmrD-",
        "outputId": "5765fcd7-fc6e-4f05-b865-d0548bd9b5e3"
      },
      "execution_count": 6,
      "outputs": [
        {
          "output_type": "stream",
          "name": "stdout",
          "text": [
            "Digite a distância percorrida em km: 150\n",
            "Digite as horas que você gastou: 1\n",
            "Digite os minutos restantes do percurso: 13\n",
            "Você ultrapassou a velocidade permitida de 110km/h e estava a  123.29 Km/h. Você receberá uma multa por inftingir uma norma de trânsito\n"
          ]
        }
      ]
    },
    {
      "cell_type": "markdown",
      "source": [
        "![image.png](data:image/png;base64,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)"
      ],
      "metadata": {
        "id": "gktZX4JoN84D"
      }
    }
  ]
}